{
  "nbformat": 4,
  "nbformat_minor": 0,
  "metadata": {
    "colab": {
      "name": "Thompson sampling to maximize revenue of online business.ipynb",
      "version": "0.3.2",
      "provenance": [],
      "collapsed_sections": [],
      "include_colab_link": true
    },
    "kernelspec": {
      "name": "python3",
      "display_name": "Python 3"
    }
  },
  "cells": [
    {
      "cell_type": "markdown",
      "metadata": {
        "id": "view-in-github",
        "colab_type": "text"
      },
      "source": [
        "<a href=\"https://colab.research.google.com/github/anguslou/thompson-sampling-to-maximize-revenue/blob/master/Thompson_sampling_to_maximize_revenue_of_online_business.ipynb\" target=\"_parent\"><img src=\"https://colab.research.google.com/assets/colab-badge.svg\" alt=\"Open In Colab\"/></a>"
      ]
    },
    {
      "metadata": {
        "id": "XALM4GhR_Sd5",
        "colab_type": "code",
        "colab": {}
      },
      "cell_type": "code",
      "source": [
        "# Artificial Intelligence for Business\n",
        "# Maximizing the Revenues of an Online Retail Business with Thompson Sampling\n",
        "# Importing the libraries\n",
        "\n",
        "import numpy as np\n",
        "import matplotlib.pyplot as plt\n",
        "import random\n",
        "\n",
        "# Setting the parameters\n",
        "\n",
        "N = 10000\n",
        "d = 9\n",
        "\n",
        "# Creating the simulation\n",
        "# conversion_rates = [0.1,0.2,0.3,0.4,0.5,0.6,0.7,0.8,0.9]\n",
        "conversion_rates = [0.05,0.13,0.09,0.16,0.11,0.04,0.20,0.08,0.01]\n",
        "X = np.array(np.zeros([N,d]))\n",
        "for i in range(N):\n",
        "  \n",
        "  for j in range(d):\n",
        "    \n",
        "    if np.random.rand() <= conversion_rates[j]:\n",
        "      \n",
        "      X[i,j] = 1\n",
        "      \n",
        "      \n",
        "# Implementing a Random Strategy and Thompson Sampling\n",
        "\n",
        "strategies_selected_rs = []\n",
        "strategies_selected_ts = []\n",
        "total_reward_rs = 0\n",
        "total_reward_ts = 0\n",
        "numbers_of_rewards_1 = [0] * d\n",
        "numbers_of_rewards_0 = [0] * d\n",
        "\n",
        "for n in range(0, N):\n",
        "  # Random Strategy\n",
        "  strategy_rs = random.randrange(d)\n",
        "  strategies_selected_rs.append(strategy_rs)\n",
        "  reward_rs = X[n, strategy_rs]\n",
        "  total_reward_rs = total_reward_rs + reward_rs\n",
        "  \n",
        "  # Thompson Sampling\n",
        "  strategy_ts = 0\n",
        "  max_random = 0\n",
        "    for i in range(0, d):\n",
        "      random_beta = random.betavariate(numbers_of_rewards_1[i] + 1, numbers_of_rewards_0[i] + 1)\n",
        "      if random_beta > max_random:\n",
        "        max_random = random_beta\n",
        "        strategy_ts = i\n",
        "        \n",
        "    reward_ts = X[n, strategy_ts]\n",
        "    if reward_ts == 1:\n",
        "      numbers_of_rewards_1[strategy_ts] = numbers_of_rewards_1[strategy_ts] + 1\n",
        "      \n",
        "    else:\n",
        "      numbers_of_rewards_0[strategy_ts] = numbers_of_rewards_0[strategy_ts] + 1\n",
        "    strategies_selected_ts.append(strategy_ts)\n",
        "    total_reward_ts = total_reward_ts + reward_ts"
      ],
      "execution_count": 0,
      "outputs": []
    }
  ]
}